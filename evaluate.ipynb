{
 "cells": [
  {
   "cell_type": "code",
   "execution_count": 1,
   "metadata": {},
   "outputs": [
    {
     "name": "stdout",
     "output_type": "stream",
     "text": [
      "100\n"
     ]
    },
    {
     "name": "stderr",
     "output_type": "stream",
     "text": [
      "/home/ubuntu/miniconda/envs/autoresponder/lib/python3.10/site-packages/datasets/dataset_dict.py:1241: FutureWarning: 'fs' was is deprecated in favor of 'storage_options' in version 2.8.0 and will be removed in 3.0.0.\n",
      "You can remove this warning by passing 'storage_options=fs.storage_options' instead.\n",
      "  warnings.warn(\n"
     ]
    },
    {
     "data": {
      "text/plain": [
       "Index(['prompt', 'ground_truth', 'input_ids', 'attention_mask', 'labels'], dtype='object')"
      ]
     },
     "execution_count": 1,
     "metadata": {},
     "output_type": "execute_result"
    }
   ],
   "source": [
    "from datasets import load_from_disk, Dataset\n",
    "import evaluate\n",
    "\n",
    "full_ds = load_from_disk(\"data/chat_history\")\n",
    "\n",
    "# We only want to evaluate on the test set to ensure we didn't overfit\n",
    "sample_data = full_ds[\"test\"].to_pandas().rename(columns={\"text\": \"ground_truth\"})\n",
    "\n",
    "sample_data = sample_data.sample(n=100, random_state=1)\n",
    "\n",
    "print(len(sample_data))\n",
    "sample_data.columns\n"
   ]
  },
  {
   "cell_type": "code",
   "execution_count": 10,
   "metadata": {},
   "outputs": [
    {
     "data": {
      "application/vnd.jupyter.widget-view+json": {
       "model_id": "e49152be6f6d4a228ca09c91a48047f8",
       "version_major": 2,
       "version_minor": 0
      },
      "text/plain": [
       "Output()"
      ]
     },
     "metadata": {},
     "output_type": "display_data"
    },
    {
     "data": {
      "text/html": [
       "<pre style=\"white-space:pre;overflow-x:auto;line-height:normal;font-family:Menlo,'DejaVu Sans Mono',consolas,'Courier New',monospace\">['R &amp; D', 'R is a fictional character appearing in American comic books published by Marvel Comics.', 'R et al.', \n",
       "\"R &amp; D's (R) is a company based in New York City. The company was founded in 1980 and is headquartered in \n",
       "Washington, D.C. R &amp; D is a private equity firm based in New York City. Its primary investments are in the oil and \n",
       "gas fields of New York City and San Francisco Bay Area. R &amp; D Holdings Pvt. Ltd. has over US$100 billion in assets \n",
       "under management.\", 'R is a novel written by an American writer. It was first published in the \"Journal of Popular \n",
       "Literature\" (1993) and has been translated into more than 200 languages.']\n",
       "</pre>\n"
      ],
      "text/plain": [
       "['R & D', 'R is a fictional character appearing in American comic books published by Marvel Comics.', 'R et al.', \n",
       "\"R & D's (R) is a company based in New York City. The company was founded in 1980 and is headquartered in \n",
       "Washington, D.C. R & D is a private equity firm based in New York City. Its primary investments are in the oil and \n",
       "gas fields of New York City and San Francisco Bay Area. R & D Holdings Pvt. Ltd. has over US$100 billion in assets \n",
       "under management.\", 'R is a novel written by an American writer. It was first published in the \"Journal of Popular \n",
       "Literature\" (1993) and has been translated into more than 200 languages.']\n"
      ]
     },
     "metadata": {},
     "output_type": "display_data"
    },
    {
     "data": {
      "text/html": [
       "<pre style=\"white-space:pre;overflow-x:auto;line-height:normal;font-family:Menlo,'DejaVu Sans Mono',consolas,'Courier New',monospace\">---\n",
       "</pre>\n"
      ],
      "text/plain": [
       "---\n"
      ]
     },
     "metadata": {},
     "output_type": "display_data"
    },
    {
     "data": {
      "text/html": [
       "<pre style=\"white-space:pre;overflow-x:auto;line-height:normal;font-family:Menlo,'DejaVu Sans Mono',consolas,'Courier New',monospace\">['e', 'e', 'e', 'e', 'e']\n",
       "</pre>\n"
      ],
      "text/plain": [
       "['e', 'e', 'e', 'e', 'e']\n"
      ]
     },
     "metadata": {},
     "output_type": "display_data"
    },
    {
     "data": {
      "text/html": [
       "<pre style=\"white-space:pre;overflow-x:auto;line-height:normal;font-family:Menlo,'DejaVu Sans Mono',consolas,'Courier New',monospace\">---\n",
       "</pre>\n"
      ],
      "text/plain": [
       "---\n"
      ]
     },
     "metadata": {},
     "output_type": "display_data"
    },
    {
     "data": {
      "text/html": [
       "<pre style=\"white-space:pre;overflow-x:auto;line-height:normal;font-family:Menlo,'DejaVu Sans Mono',consolas,'Courier New',monospace\">['s', 's', 's', 's, c, d, e, f, h, i, k, l, m, n, o, p, r, s, t, u, v, w, x, y, z', 's']\n",
       "</pre>\n"
      ],
      "text/plain": [
       "['s', 's', 's', 's, c, d, e, f, h, i, k, l, m, n, o, p, r, s, t, u, v, w, x, y, z', 's']\n"
      ]
     },
     "metadata": {},
     "output_type": "display_data"
    },
    {
     "data": {
      "text/html": [
       "<pre style=\"white-space:pre;overflow-x:auto;line-height:normal;font-family:Menlo,'DejaVu Sans Mono',consolas,'Courier New',monospace\">---\n",
       "</pre>\n"
      ],
      "text/plain": [
       "---\n"
      ]
     },
     "metadata": {},
     "output_type": "display_data"
    },
    {
     "data": {
      "text/html": [
       "<pre style=\"white-space:pre;overflow-x:auto;line-height:normal;font-family:Menlo,'DejaVu Sans Mono',consolas,'Courier New',monospace\">['p', 'p', 'p', 'p', 'p']\n",
       "</pre>\n"
      ],
      "text/plain": [
       "['p', 'p', 'p', 'p', 'p']\n"
      ]
     },
     "metadata": {},
     "output_type": "display_data"
    },
    {
     "data": {
      "text/html": [
       "<pre style=\"white-space:pre;overflow-x:auto;line-height:normal;font-family:Menlo,'DejaVu Sans Mono',consolas,'Courier New',monospace\">---\n",
       "</pre>\n"
      ],
      "text/plain": [
       "---\n"
      ]
     },
     "metadata": {},
     "output_type": "display_data"
    },
    {
     "data": {
      "text/html": [
       "<pre style=\"white-space:pre;overflow-x:auto;line-height:normal;font-family:Menlo,'DejaVu Sans Mono',consolas,'Courier New',monospace\">['o', 'o', 'o', 'o , o , o , o , o , o , o , o , o , o , o , o , o , o , o , o , o , o , o , o , o , o , o , o , o \n",
       ", o , o , o , o , o , o , o , o , o , o , o , o , o , o , o , o , o , o , o , o , o , o , o , o , o ', 'o']\n",
       "</pre>\n"
      ],
      "text/plain": [
       "['o', 'o', 'o', 'o , o , o , o , o , o , o , o , o , o , o , o , o , o , o , o , o , o , o , o , o , o , o , o , o \n",
       ", o , o , o , o , o , o , o , o , o , o , o , o , o , o , o , o , o , o , o , o , o , o , o , o , o ', 'o']\n"
      ]
     },
     "metadata": {},
     "output_type": "display_data"
    },
    {
     "data": {
      "text/html": [
       "<pre style=\"white-space:pre;overflow-x:auto;line-height:normal;font-family:Menlo,'DejaVu Sans Mono',consolas,'Courier New',monospace\">---\n",
       "</pre>\n"
      ],
      "text/plain": [
       "---\n"
      ]
     },
     "metadata": {},
     "output_type": "display_data"
    },
    {
     "data": {
      "text/html": [
       "<pre style=\"white-space:pre;overflow-x:auto;line-height:normal;font-family:Menlo,'DejaVu Sans Mono',consolas,'Courier New',monospace\">['n.', 'n.', 'n.', 'n', 'n.']\n",
       "</pre>\n"
      ],
      "text/plain": [
       "['n.', 'n.', 'n.', 'n', 'n.']\n"
      ]
     },
     "metadata": {},
     "output_type": "display_data"
    },
    {
     "data": {
      "text/html": [
       "<pre style=\"white-space:pre;overflow-x:auto;line-height:normal;font-family:Menlo,'DejaVu Sans Mono',consolas,'Courier New',monospace\">---\n",
       "</pre>\n"
      ],
      "text/plain": [
       "---\n"
      ]
     },
     "metadata": {},
     "output_type": "display_data"
    },
    {
     "data": {
      "text/html": [
       "<pre style=\"white-space:pre;overflow-x:auto;line-height:normal;font-family:Menlo,'DejaVu Sans Mono',consolas,'Courier New',monospace\">['d', 'd', 'd', 'd', 'd is the name of a species of flowering plant in the family Carabidae.']\n",
       "</pre>\n"
      ],
      "text/plain": [
       "['d', 'd', 'd', 'd', 'd is the name of a species of flowering plant in the family Carabidae.']\n"
      ]
     },
     "metadata": {},
     "output_type": "display_data"
    },
    {
     "data": {
      "text/html": [
       "<pre style=\"white-space:pre;overflow-x:auto;line-height:normal;font-family:Menlo,'DejaVu Sans Mono',consolas,'Courier New',monospace\">---\n",
       "</pre>\n"
      ],
      "text/plain": [
       "---\n"
      ]
     },
     "metadata": {},
     "output_type": "display_data"
    },
    {
     "data": {
      "text/html": [
       "<pre style=\"white-space:pre;overflow-x:auto;line-height:normal;font-family:Menlo,'DejaVu Sans Mono',consolas,'Courier New',monospace\">['ак то дл конерениалноо расространени всео вомоности, наодитс в каестве реулрноо детелности.', '                  \n",
       "', 'сли  наете интернет есни, то  моете доавит и в нау коллеки с омо то орм . оавит видео-кли к есне, то  моете \n",
       "доавит и в нау коллеки с омо то орм с омо то орм с омо то орм с омо то орм с омо то ', 'сли  наете интернет есни, \n",
       "то  моете доавит и в нау коллеки с омо то орм . оавит видео-кли к есне, то  моете доавит и в нау коллеки с омо то \n",
       "орм с омо то орм с омо то орм с омо то орм с омо то ', 'оследстви омоателноо расолоени, которе исолутс в наале \n",
       "современнми классими, таким ораом.']\n",
       "</pre>\n"
      ],
      "text/plain": [
       "['ак то дл конерениалноо расространени всео вомоности, наодитс в каестве реулрноо детелности.', '                  \n",
       "', 'сли  наете интернет есни, то  моете доавит и в нау коллеки с омо то орм . оавит видео-кли к есне, то  моете \n",
       "доавит и в нау коллеки с омо то орм с омо то орм с омо то орм с омо то орм с омо то ', 'сли  наете интернет есни, \n",
       "то  моете доавит и в нау коллеки с омо то орм . оавит видео-кли к есне, то  моете доавит и в нау коллеки с омо то \n",
       "орм с омо то орм с омо то орм с омо то орм с омо то ', 'оследстви омоателноо расолоени, которе исолутс в наале \n",
       "современнми классими, таким ораом.']\n"
      ]
     },
     "metadata": {},
     "output_type": "display_data"
    },
    {
     "data": {
      "text/html": [
       "<pre style=\"white-space:pre;overflow-x:auto;line-height:normal;font-family:Menlo,'DejaVu Sans Mono',consolas,'Courier New',monospace\">---\n",
       "</pre>\n"
      ],
      "text/plain": [
       "---\n"
      ]
     },
     "metadata": {},
     "output_type": "display_data"
    },
    {
     "data": {
      "text/html": [
       "<pre style=\"white-space:pre;overflow-x:auto;line-height:normal;font-family:Menlo,'DejaVu Sans Mono',consolas,'Courier New',monospace\">['t , t , t , t , t , t , t , t , t , t , t , t , t , t , t , t , t , t , t , t , t , t , t , t , t , t , t , t , t\n",
       ", t , t , t , t , t , t , t , t , t , t , t , t , t , t , t , t , t , t , t , t , t ', 't', 't, t, t, t, t, t, t, \n",
       "t, t, t, t, t, t, t, t, t, t, t, t, t, t, t, t, t, t, t, t, t, t, t, t, t, t, t, t, t, t, t, t, t, t, t, t, t, t, \n",
       "t, t, t, t, t, t, t, t, t, t, t, t, t, t, t, t, t, t, t, t, t, ', 't , t , t , t , t , t , t , t , t , t , t , t , \n",
       "t , t , t , t , t , t , t , t , t , t , t , t , t , t , t , t , t , t , t , t , t , t , t , t , t , t , t , t , t ,\n",
       "t , t , t , t , t , t , t , t , t ', 't , t , t , t , t , t , t , t , t , t , t , t , t , t , t , t , t , t , t , t\n",
       ", t , t , t , t , t , t , t , t , t , t , t , t , t , t , t , t , t , t , t , t , t , t , t , t , t , t , t , t , t\n",
       ", t ']\n",
       "</pre>\n"
      ],
      "text/plain": [
       "['t , t , t , t , t , t , t , t , t , t , t , t , t , t , t , t , t , t , t , t , t , t , t , t , t , t , t , t , t\n",
       ", t , t , t , t , t , t , t , t , t , t , t , t , t , t , t , t , t , t , t , t , t ', 't', 't, t, t, t, t, t, t, \n",
       "t, t, t, t, t, t, t, t, t, t, t, t, t, t, t, t, t, t, t, t, t, t, t, t, t, t, t, t, t, t, t, t, t, t, t, t, t, t, \n",
       "t, t, t, t, t, t, t, t, t, t, t, t, t, t, t, t, t, t, t, t, t, ', 't , t , t , t , t , t , t , t , t , t , t , t , \n",
       "t , t , t , t , t , t , t , t , t , t , t , t , t , t , t , t , t , t , t , t , t , t , t , t , t , t , t , t , t ,\n",
       "t , t , t , t , t , t , t , t , t ', 't , t , t , t , t , t , t , t , t , t , t , t , t , t , t , t , t , t , t , t\n",
       ", t , t , t , t , t , t , t , t , t , t , t , t , t , t , t , t , t , t , t , t , t , t , t , t , t , t , t , t , t\n",
       ", t ']\n"
      ]
     },
     "metadata": {},
     "output_type": "display_data"
    },
    {
     "data": {
      "text/html": [
       "<pre style=\"white-space:pre;overflow-x:auto;line-height:normal;font-family:Menlo,'DejaVu Sans Mono',consolas,'Courier New',monospace\">---\n",
       "</pre>\n"
      ],
      "text/plain": [
       "---\n"
      ]
     },
     "metadata": {},
     "output_type": "display_data"
    },
    {
     "data": {
      "text/html": [
       "<pre style=\"white-space:pre;overflow-x:auto;line-height:normal;font-family:Menlo,'DejaVu Sans Mono',consolas,'Courier New',monospace\">['o', 'o', 'o, o, o, o, o, o, o, o, o, o, o, o, o, o, o, o, o, o, o, o, o, o, o, o, o, o, o, o, o, o, o, o, o, o, \n",
       "o, o, o, o, o, o, o, o, o, o, o, o, o, o, o, o, o, o, o, o, o, o, o, o, o, o, o, o, o, o, o, o, ', 'o', 'o, oh, oh,\n",
       "oh, oh, oh, oh, oh, oh, oh, oh, oh, oh, oh, oh, oh, oh, oh, oh, oh, oh, oh, oh, oh, oh, oh, oh, oh, oh, oh, oh, oh,\n",
       "oh, oh, oh, oh, oh, oh, oh, oh, oh, oh, oh, oh, oh, oh, oh, oh, oh, oh,']\n",
       "</pre>\n"
      ],
      "text/plain": [
       "['o', 'o', 'o, o, o, o, o, o, o, o, o, o, o, o, o, o, o, o, o, o, o, o, o, o, o, o, o, o, o, o, o, o, o, o, o, o, \n",
       "o, o, o, o, o, o, o, o, o, o, o, o, o, o, o, o, o, o, o, o, o, o, o, o, o, o, o, o, o, o, o, o, ', 'o', 'o, oh, oh,\n",
       "oh, oh, oh, oh, oh, oh, oh, oh, oh, oh, oh, oh, oh, oh, oh, oh, oh, oh, oh, oh, oh, oh, oh, oh, oh, oh, oh, oh, oh,\n",
       "oh, oh, oh, oh, oh, oh, oh, oh, oh, oh, oh, oh, oh, oh, oh, oh, oh, oh,']\n"
      ]
     },
     "metadata": {},
     "output_type": "display_data"
    },
    {
     "data": {
      "text/html": [
       "<pre style=\"white-space:pre;overflow-x:auto;line-height:normal;font-family:Menlo,'DejaVu Sans Mono',consolas,'Courier New',monospace\">---\n",
       "</pre>\n"
      ],
      "text/plain": [
       "---\n"
      ]
     },
     "metadata": {},
     "output_type": "display_data"
    },
    {
     "data": {
      "text/html": [
       "<pre style=\"white-space:pre;overflow-x:auto;line-height:normal;font-family:Menlo,'DejaVu Sans Mono',consolas,'Courier New',monospace\">['                                                                                                   ', '          \n",
       "', '                                                                                                   ', 'ак то \n",
       "моно скаат еревод текста, если ест вомоност скаат минусовку. You моете доавит и в нау коллеки с омо то орм . оавит \n",
       "видео-кли к еснм  моно если у вас ест какие-то корректировки текста, оалуста отравлте и нам.', 'сли  нае лимо \n",
       "страние, то  моете доавит и в нау коллеки с омо то орм . оавит видео-кли к нам. оавит видео-кли к нам. оавит \n",
       "видео-кли к нам. оавит видео-кли к нам. оавит видео-кли к нам. оавит видео-кли']\n",
       "</pre>\n"
      ],
      "text/plain": [
       "['                                                                                                   ', '          \n",
       "', '                                                                                                   ', 'ак то \n",
       "моно скаат еревод текста, если ест вомоност скаат минусовку. You моете доавит и в нау коллеки с омо то орм . оавит \n",
       "видео-кли к еснм  моно если у вас ест какие-то корректировки текста, оалуста отравлте и нам.', 'сли  нае лимо \n",
       "страние, то  моете доавит и в нау коллеки с омо то орм . оавит видео-кли к нам. оавит видео-кли к нам. оавит \n",
       "видео-кли к нам. оавит видео-кли к нам. оавит видео-кли к нам. оавит видео-кли']\n"
      ]
     },
     "metadata": {},
     "output_type": "display_data"
    },
    {
     "data": {
      "text/html": [
       "<pre style=\"white-space:pre;overflow-x:auto;line-height:normal;font-family:Menlo,'DejaVu Sans Mono',consolas,'Courier New',monospace\">---\n",
       "</pre>\n"
      ],
      "text/plain": [
       "---\n"
      ]
     },
     "metadata": {},
     "output_type": "display_data"
    },
    {
     "data": {
      "text/html": [
       "<pre style=\"white-space:pre;overflow-x:auto;line-height:normal;font-family:Menlo,'DejaVu Sans Mono',consolas,'Courier New',monospace\">['c', 'c', 'c', 'c', 'c']\n",
       "</pre>\n"
      ],
      "text/plain": [
       "['c', 'c', 'c', 'c', 'c']\n"
      ]
     },
     "metadata": {},
     "output_type": "display_data"
    },
    {
     "data": {
      "text/html": [
       "<pre style=\"white-space:pre;overflow-x:auto;line-height:normal;font-family:Menlo,'DejaVu Sans Mono',consolas,'Courier New',monospace\">---\n",
       "</pre>\n"
      ],
      "text/plain": [
       "---\n"
      ]
     },
     "metadata": {},
     "output_type": "display_data"
    },
    {
     "data": {
      "text/html": [
       "<pre style=\"white-space:pre;overflow-x:auto;line-height:normal;font-family:Menlo,'DejaVu Sans Mono',consolas,'Courier New',monospace\">['h', 'h.', 'h.', 'h', 'h , c , d , e , f , h , g , h , i , j , k , l , m , n , o , p , r , s , t , u , v , w , x ,\n",
       "y , z']\n",
       "</pre>\n"
      ],
      "text/plain": [
       "['h', 'h.', 'h.', 'h', 'h , c , d , e , f , h , g , h , i , j , k , l , m , n , o , p , r , s , t , u , v , w , x ,\n",
       "y , z']\n"
      ]
     },
     "metadata": {},
     "output_type": "display_data"
    },
    {
     "data": {
      "text/html": [
       "<pre style=\"white-space:pre;overflow-x:auto;line-height:normal;font-family:Menlo,'DejaVu Sans Mono',consolas,'Courier New',monospace\">---\n",
       "</pre>\n"
      ],
      "text/plain": [
       "---\n"
      ]
     },
     "metadata": {},
     "output_type": "display_data"
    },
    {
     "data": {
      "text/html": [
       "<pre style=\"white-space:pre;overflow-x:auto;line-height:normal;font-family:Menlo,'DejaVu Sans Mono',consolas,'Courier New',monospace\">['spokesman for the United States Department of Defense (DoD) said on Thursday that there were no reports of \n",
       "casualties or injuries. A DOD spokeswoman did not immediately respond to a request for comment.', 'spokesman for \n",
       "the United States Department of Homeland Security said: \"United States Customs and Border Protection is conducting \n",
       "an investigation into allegations of fraud in connection with the seizure of a U.S. Embassy in Washington, D.C.\" \n",
       "The FBI has not yet released a statement about the seizure.', 'giraffe has been killed by a fox in north-eastern \n",
       "Africa.', 'spokesman said: \"We are proud to announce that we have acquired the right to file an official complaint \n",
       "with the U.S. Food and Drug Administration, which is currently being investigated by the Food and Drug \n",
       "Administration (FDA).\"', 'spokesman for the U.S. Department of Defense (DoD) said: “The United States Bureau of \n",
       "Investigation has determined that there are at least four people in custody who have been arrested on suspicion of \n",
       "conspiracy to commit genocide.” A DOD spokeswoman declined to comment.']\n",
       "</pre>\n"
      ],
      "text/plain": [
       "['spokesman for the United States Department of Defense (DoD) said on Thursday that there were no reports of \n",
       "casualties or injuries. A DOD spokeswoman did not immediately respond to a request for comment.', 'spokesman for \n",
       "the United States Department of Homeland Security said: \"United States Customs and Border Protection is conducting \n",
       "an investigation into allegations of fraud in connection with the seizure of a U.S. Embassy in Washington, D.C.\" \n",
       "The FBI has not yet released a statement about the seizure.', 'giraffe has been killed by a fox in north-eastern \n",
       "Africa.', 'spokesman said: \"We are proud to announce that we have acquired the right to file an official complaint \n",
       "with the U.S. Food and Drug Administration, which is currently being investigated by the Food and Drug \n",
       "Administration (FDA).\"', 'spokesman for the U.S. Department of Defense (DoD) said: “The United States Bureau of \n",
       "Investigation has determined that there are at least four people in custody who have been arrested on suspicion of \n",
       "conspiracy to commit genocide.” A DOD spokeswoman declined to comment.']\n"
      ]
     },
     "metadata": {},
     "output_type": "display_data"
    },
    {
     "data": {
      "text/html": [
       "<pre style=\"white-space:pre;overflow-x:auto;line-height:normal;font-family:Menlo,'DejaVu Sans Mono',consolas,'Courier New',monospace\">---\n",
       "</pre>\n"
      ],
      "text/plain": [
       "---\n"
      ]
     },
     "metadata": {},
     "output_type": "display_data"
    },
    {
     "data": {
      "text/html": [
       "<pre style=\"white-space:pre;overflow-x:auto;line-height:normal;font-family:Menlo,'DejaVu Sans Mono',consolas,'Courier New',monospace\">['t , t , t , t , t , t , t , t , t , t , t , t , t , t , t , t , t , t , t , t , t , t , t , t , t , t , t , t , t\n",
       ", t , t , t , t , t , t , t , t , t , t , t , t , t , t , t , t , t , t , t , t , t ', 't , c , d , f , g , h , i ,\n",
       "j , k , l , m , n , o , p , r , s , u , v , w , x , y , z', 't', 't , s , c , d , e , f , g , h , i , j , k , l , m\n",
       ", n , o , p , q , r , u , v , w , x , y , z', 't , t , t , t , t , t , t , t , t , t , t , t , t , t , t , t , t , \n",
       "t , t , t , t , t , t , t , t , t , t , t , t , t , t , t , t , t , t , t , t , t , t , t , t , t , t , t , t , t ,\n",
       "t , t , t , t ']\n",
       "</pre>\n"
      ],
      "text/plain": [
       "['t , t , t , t , t , t , t , t , t , t , t , t , t , t , t , t , t , t , t , t , t , t , t , t , t , t , t , t , t\n",
       ", t , t , t , t , t , t , t , t , t , t , t , t , t , t , t , t , t , t , t , t , t ', 't , c , d , f , g , h , i ,\n",
       "j , k , l , m , n , o , p , r , s , u , v , w , x , y , z', 't', 't , s , c , d , e , f , g , h , i , j , k , l , m\n",
       ", n , o , p , q , r , u , v , w , x , y , z', 't , t , t , t , t , t , t , t , t , t , t , t , t , t , t , t , t , \n",
       "t , t , t , t , t , t , t , t , t , t , t , t , t , t , t , t , t , t , t , t , t , t , t , t , t , t , t , t , t ,\n",
       "t , t , t , t ']\n"
      ]
     },
     "metadata": {},
     "output_type": "display_data"
    },
    {
     "data": {
      "text/html": [
       "<pre style=\"white-space:pre;overflow-x:auto;line-height:normal;font-family:Menlo,'DejaVu Sans Mono',consolas,'Courier New',monospace\">---\n",
       "</pre>\n"
      ],
      "text/plain": [
       "---\n"
      ]
     },
     "metadata": {},
     "output_type": "display_data"
    },
    {
     "data": {
      "text/html": [
       "<pre style=\"white-space:pre;overflow-x:auto;line-height:normal;font-family:Menlo,'DejaVu Sans Mono',consolas,'Courier New',monospace\">['ак моно исоловат дл наравлени своео телевидени, которе треуетс в каестве несколки мерорити.', 'сли в отите скаат \n",
       "еревод текста есни The Eternal Sunshine of Sleeping Beauty дес .  стараемс сделат так, то слова есни Sleeping \n",
       "Beauty ли наиолее тонми, отому если у вас ест какие-то корректировки текста, оалуста отравлте и нам.', '           \n",
       "', '                                                                                                   ', 'ак моно \n",
       "исоловат свои современне документ, которе редоставлтс на самом деле.']\n",
       "</pre>\n"
      ],
      "text/plain": [
       "['ак моно исоловат дл наравлени своео телевидени, которе треуетс в каестве несколки мерорити.', 'сли в отите скаат \n",
       "еревод текста есни The Eternal Sunshine of Sleeping Beauty дес .  стараемс сделат так, то слова есни Sleeping \n",
       "Beauty ли наиолее тонми, отому если у вас ест какие-то корректировки текста, оалуста отравлте и нам.', '           \n",
       "', '                                                                                                   ', 'ак моно \n",
       "исоловат свои современне документ, которе редоставлтс на самом деле.']\n"
      ]
     },
     "metadata": {},
     "output_type": "display_data"
    },
    {
     "data": {
      "text/html": [
       "<pre style=\"white-space:pre;overflow-x:auto;line-height:normal;font-family:Menlo,'DejaVu Sans Mono',consolas,'Courier New',monospace\">---\n",
       "</pre>\n"
      ],
      "text/plain": [
       "---\n"
      ]
     },
     "metadata": {},
     "output_type": "display_data"
    },
    {
     "data": {
      "text/html": [
       "<pre style=\"white-space:pre;overflow-x:auto;line-height:normal;font-family:Menlo,'DejaVu Sans Mono',consolas,'Courier New',monospace\">['teddy bear is one of the most endangered animals in the world.', 'crocodile', \"giraffe is one of the most \n",
       "endangered species in the world, according to the Centers for Disease Control and Prevention (CDC). The giraffe's \n",
       "natural predators include foxes, lions, zebras, and other reptiles.\", 'giraffe sits on a branch of a tree in the \n",
       "middle of a wooded area.', 'napoleon is said to have been shot by a gunman in the early hours of Sunday morning.']\n",
       "</pre>\n"
      ],
      "text/plain": [
       "['teddy bear is one of the most endangered animals in the world.', 'crocodile', \"giraffe is one of the most \n",
       "endangered species in the world, according to the Centers for Disease Control and Prevention (CDC). The giraffe's \n",
       "natural predators include foxes, lions, zebras, and other reptiles.\", 'giraffe sits on a branch of a tree in the \n",
       "middle of a wooded area.', 'napoleon is said to have been shot by a gunman in the early hours of Sunday morning.']\n"
      ]
     },
     "metadata": {},
     "output_type": "display_data"
    },
    {
     "data": {
      "text/html": [
       "<pre style=\"white-space:pre;overflow-x:auto;line-height:normal;font-family:Menlo,'DejaVu Sans Mono',consolas,'Courier New',monospace\">---\n",
       "</pre>\n"
      ],
      "text/plain": [
       "---\n"
      ]
     },
     "metadata": {},
     "output_type": "display_data"
    },
    {
     "data": {
      "text/html": [
       "<pre style=\"white-space:pre;overflow-x:auto;line-height:normal;font-family:Menlo,'DejaVu Sans Mono',consolas,'Courier New',monospace\">['s', 's, c, d, e, f, g, h, i, j, k, l, m, n, o, p, q, r, s, t, u, v, w, x, y, z', 's, c, d, e, f, g, h, i, j, k, \n",
       "l, m, n, o, p, q, r, s, t, u, v, w, x, y, z', 's, c, d, e, f, g, h, j, k, l, m, n, o, p, r, s, t, u, v, w, x, y, \n",
       "z', 's, t, k, m, n, o, p, q, r, s, v, w, x, y, z']\n",
       "</pre>\n"
      ],
      "text/plain": [
       "['s', 's, c, d, e, f, g, h, i, j, k, l, m, n, o, p, q, r, s, t, u, v, w, x, y, z', 's, c, d, e, f, g, h, i, j, k, \n",
       "l, m, n, o, p, q, r, s, t, u, v, w, x, y, z', 's, c, d, e, f, g, h, j, k, l, m, n, o, p, r, s, t, u, v, w, x, y, \n",
       "z', 's, t, k, m, n, o, p, q, r, s, v, w, x, y, z']\n"
      ]
     },
     "metadata": {},
     "output_type": "display_data"
    },
    {
     "data": {
      "text/html": [
       "<pre style=\"white-space:pre;overflow-x:auto;line-height:normal;font-family:Menlo,'DejaVu Sans Mono',consolas,'Courier New',monospace\">---\n",
       "</pre>\n"
      ],
      "text/plain": [
       "---\n"
      ]
     },
     "metadata": {},
     "output_type": "display_data"
    },
    {
     "data": {
      "text/html": [
       "<pre style=\"white-space:pre;overflow-x:auto;line-height:normal;font-family:Menlo,'DejaVu Sans Mono',consolas,'Courier New',monospace\">['ак то некоторе слуатс, то достиение моет т оределеннми наруеними в каестве мерорити.', 'ак е всео моно исоловат \n",
       "свои соственне дл тоо, то укаатс.', '                                                                              \n",
       "', 'аким ораом, как и в свое конерении, удовлетвортс.', '                                                          \n",
       "']\n",
       "</pre>\n"
      ],
      "text/plain": [
       "['ак то некоторе слуатс, то достиение моет т оределеннми наруеними в каестве мерорити.', 'ак е всео моно исоловат \n",
       "свои соственне дл тоо, то укаатс.', '                                                                              \n",
       "', 'аким ораом, как и в свое конерении, удовлетвортс.', '                                                          \n",
       "']\n"
      ]
     },
     "metadata": {},
     "output_type": "display_data"
    },
    {
     "data": {
      "text/html": [
       "<pre style=\"white-space:pre;overflow-x:auto;line-height:normal;font-family:Menlo,'DejaVu Sans Mono',consolas,'Courier New',monospace\">---\n",
       "</pre>\n"
      ],
      "text/plain": [
       "---\n"
      ]
     },
     "metadata": {},
     "output_type": "display_data"
    },
    {
     "data": {
      "text/html": [
       "<pre style=\"white-space:pre;overflow-x:auto;line-height:normal;font-family:Menlo,'DejaVu Sans Mono',consolas,'Courier New',monospace\">['K.', 'K.', 'K                                                                                                   \n",
       "', 'K: I want to thank you for your help in resolving this issue. We have been working on it for the past few \n",
       "months, and we are very pleased with the results so far.', 'K                                                      \n",
       "']\n",
       "</pre>\n"
      ],
      "text/plain": [
       "['K.', 'K.', 'K                                                                                                   \n",
       "', 'K: I want to thank you for your help in resolving this issue. We have been working on it for the past few \n",
       "months, and we are very pleased with the results so far.', 'K                                                      \n",
       "']\n"
      ]
     },
     "metadata": {},
     "output_type": "display_data"
    },
    {
     "data": {
      "text/html": [
       "<pre style=\"white-space:pre;overflow-x:auto;line-height:normal;font-family:Menlo,'DejaVu Sans Mono',consolas,'Courier New',monospace\">---\n",
       "</pre>\n"
      ],
      "text/plain": [
       "---\n"
      ]
     },
     "metadata": {},
     "output_type": "display_data"
    },
    {
     "data": {
      "text/html": [
       "<pre style=\"white-space:pre;overflow-x:auto;line-height:normal;font-family:Menlo,'DejaVu Sans Mono',consolas,'Courier New',monospace\">['y', 'y', 'y', 'y', 'y']\n",
       "</pre>\n"
      ],
      "text/plain": [
       "['y', 'y', 'y', 'y', 'y']\n"
      ]
     },
     "metadata": {},
     "output_type": "display_data"
    },
    {
     "data": {
      "text/html": [
       "<pre style=\"white-space:pre;overflow-x:auto;line-height:normal;font-family:Menlo,'DejaVu Sans Mono',consolas,'Courier New',monospace\">---\n",
       "</pre>\n"
      ],
      "text/plain": [
       "---\n"
      ]
     },
     "metadata": {},
     "output_type": "display_data"
    },
    {
     "data": {
      "text/html": [
       "<pre style=\"white-space:pre;overflow-x:auto;line-height:normal;font-family:Menlo,'DejaVu Sans Mono',consolas,'Courier New',monospace\">['l', 'lst.', 'l', ', , , , , , , , , , , , , , , , , , , , , , , , , , , , , , , , , , , , , , , , , , , , , , , ,\n",
       ", , , , , , , , , , , , , , , , , , ', 'l, r, t, v, w, h, i, j, k, m, n, o, p, q, s, a, b, c, d, e, f, g, u, v, w, \n",
       "x, y, z']\n",
       "</pre>\n"
      ],
      "text/plain": [
       "['l', 'lst.', 'l', ', , , , , , , , , , , , , , , , , , , , , , , , , , , , , , , , , , , , , , , , , , , , , , , ,\n",
       ", , , , , , , , , , , , , , , , , , ', 'l, r, t, v, w, h, i, j, k, m, n, o, p, q, s, a, b, c, d, e, f, g, u, v, w, \n",
       "x, y, z']\n"
      ]
     },
     "metadata": {},
     "output_type": "display_data"
    },
    {
     "data": {
      "text/html": [
       "<pre style=\"white-space:pre;overflow-x:auto;line-height:normal;font-family:Menlo,'DejaVu Sans Mono',consolas,'Courier New',monospace\">---\n",
       "</pre>\n"
      ],
      "text/plain": [
       "---\n"
      ]
     },
     "metadata": {},
     "output_type": "display_data"
    },
    {
     "data": {
      "text/html": [
       "<pre style=\"white-space:pre;overflow-x:auto;line-height:normal;font-family:Menlo,'DejaVu Sans Mono',consolas,'Courier New',monospace\">['e', 'e', 'e', 'e', 'e']\n",
       "</pre>\n"
      ],
      "text/plain": [
       "['e', 'e', 'e', 'e', 'e']\n"
      ]
     },
     "metadata": {},
     "output_type": "display_data"
    },
    {
     "data": {
      "text/html": [
       "<pre style=\"white-space:pre;overflow-x:auto;line-height:normal;font-family:Menlo,'DejaVu Sans Mono',consolas,'Courier New',monospace\">---\n",
       "</pre>\n"
      ],
      "text/plain": [
       "---\n"
      ]
     },
     "metadata": {},
     "output_type": "display_data"
    },
    {
     "data": {
      "text/html": [
       "<pre style=\"white-space:pre;overflow-x:auto;line-height:normal;font-family:Menlo,'DejaVu Sans Mono',consolas,'Courier New',monospace\">['                                                                                                   ', \n",
       "'аконодателне расространени и достиени оределеннми треованими моут исоловат свои соответствуие инормаионне \n",
       "клиентов, наодиес в несколки местности.', '                                                                        \n",
       "', 'ак моно исоловат в каестве оесеении дл наравлени контрол, так и сделат вомоност соответствуис.', 'In a recent \n",
       "study, it was found that people were more likely to be obese than non-smokers. According to the National Institute \n",
       "for Health and Human Services (NHHS), obesity is one of the leading causes of death in the United States.']\n",
       "</pre>\n"
      ],
      "text/plain": [
       "['                                                                                                   ', \n",
       "'аконодателне расространени и достиени оределеннми треованими моут исоловат свои соответствуие инормаионне \n",
       "клиентов, наодиес в несколки местности.', '                                                                        \n",
       "', 'ак моно исоловат в каестве оесеении дл наравлени контрол, так и сделат вомоност соответствуис.', 'In a recent \n",
       "study, it was found that people were more likely to be obese than non-smokers. According to the National Institute \n",
       "for Health and Human Services (NHHS), obesity is one of the leading causes of death in the United States.']\n"
      ]
     },
     "metadata": {},
     "output_type": "display_data"
    },
    {
     "data": {
      "text/html": [
       "<pre style=\"white-space:pre;overflow-x:auto;line-height:normal;font-family:Menlo,'DejaVu Sans Mono',consolas,'Courier New',monospace\">---\n",
       "</pre>\n"
      ],
      "text/plain": [
       "---\n"
      ]
     },
     "metadata": {},
     "output_type": "display_data"
    },
    {
     "data": {
      "text/html": [
       "<pre style=\"white-space:pre;overflow-x:auto;line-height:normal;font-family:Menlo,'DejaVu Sans Mono',consolas,'Courier New',monospace\">['C (cyanthology) is a book that chronicles the life and times of Charles Darwin. It was first published in 1913, \n",
       "and has since become one of the most important scientific works of the 20th century. \"C\" stands for \"The Life and \n",
       "Times of Charles Darwin\", and can be found at: http://www.creativecommons.org', 'C &amp; C, Inc. is an American \n",
       "professional wrestling promotion based in Las Vegas, Nevada. The company was founded in 1995 and currently operates\n",
       "out of the Las Vegas Convention and Visitors Authority (VVA) arena at the Venetian Ballroom in Las Vegas, Nevada.',\n",
       "'C edificio del campo', 'C is a fictional character appearing in American comic books published by Marvel Comics.',\n",
       "'C is a chemical compound that has been shown to be useful in the treatment of cancer.']\n",
       "</pre>\n"
      ],
      "text/plain": [
       "['C (cyanthology) is a book that chronicles the life and times of Charles Darwin. It was first published in 1913, \n",
       "and has since become one of the most important scientific works of the 20th century. \"C\" stands for \"The Life and \n",
       "Times of Charles Darwin\", and can be found at: http://www.creativecommons.org', 'C & C, Inc. is an American \n",
       "professional wrestling promotion based in Las Vegas, Nevada. The company was founded in 1995 and currently operates\n",
       "out of the Las Vegas Convention and Visitors Authority (VVA) arena at the Venetian Ballroom in Las Vegas, Nevada.',\n",
       "'C edificio del campo', 'C is a fictional character appearing in American comic books published by Marvel Comics.',\n",
       "'C is a chemical compound that has been shown to be useful in the treatment of cancer.']\n"
      ]
     },
     "metadata": {},
     "output_type": "display_data"
    },
    {
     "data": {
      "text/html": [
       "<pre style=\"white-space:pre;overflow-x:auto;line-height:normal;font-family:Menlo,'DejaVu Sans Mono',consolas,'Courier New',monospace\">---\n",
       "</pre>\n"
      ],
      "text/plain": [
       "---\n"
      ]
     },
     "metadata": {},
     "output_type": "display_data"
    },
    {
     "data": {
      "text/html": [
       "<pre style=\"white-space:pre;overflow-x:auto;line-height:normal;font-family:Menlo,'DejaVu Sans Mono',consolas,'Courier New',monospace\">['o', 'o , o , o , o , o , o , o , o , o , o , o , o , o , o , o , o , o , o , o , o , o , o , o , o , o , o , o , \n",
       "o , o , o , o , o , o , o , o , o , o , o , o , o , o , o , o , o , o , o , o , o , o , o ', 'o , o , o , o , o , o\n",
       ", o , o , o , o , o , o , o , o , o , o , o , o , o , o , o , o , o , o , o , o , o , o , o , o , o , o , o , o , o\n",
       ", o , o , o , o , o , o , o , o , o , o , o , o , o , o , o ', 'o', 'o, o, o, o, o, o, o, o, o, o, o, o, o, o, o, \n",
       "o, o, o, o, o, o, o, o, o, o, o, o, o, o, o, o, o, o, o, o, o, o, o, o, o, o, o, o, o, o, o, o, o, o, o, o, o, o, \n",
       "o, o, o, o, o, o, o, o, o, o, o, o, o, ']\n",
       "</pre>\n"
      ],
      "text/plain": [
       "['o', 'o , o , o , o , o , o , o , o , o , o , o , o , o , o , o , o , o , o , o , o , o , o , o , o , o , o , o , \n",
       "o , o , o , o , o , o , o , o , o , o , o , o , o , o , o , o , o , o , o , o , o , o , o ', 'o , o , o , o , o , o\n",
       ", o , o , o , o , o , o , o , o , o , o , o , o , o , o , o , o , o , o , o , o , o , o , o , o , o , o , o , o , o\n",
       ", o , o , o , o , o , o , o , o , o , o , o , o , o , o , o ', 'o', 'o, o, o, o, o, o, o, o, o, o, o, o, o, o, o, \n",
       "o, o, o, o, o, o, o, o, o, o, o, o, o, o, o, o, o, o, o, o, o, o, o, o, o, o, o, o, o, o, o, o, o, o, o, o, o, o, \n",
       "o, o, o, o, o, o, o, o, o, o, o, o, o, ']\n"
      ]
     },
     "metadata": {},
     "output_type": "display_data"
    },
    {
     "data": {
      "text/html": [
       "<pre style=\"white-space:pre;overflow-x:auto;line-height:normal;font-family:Menlo,'DejaVu Sans Mono',consolas,'Courier New',monospace\">---\n",
       "</pre>\n"
      ],
      "text/plain": [
       "---\n"
      ]
     },
     "metadata": {},
     "output_type": "display_data"
    },
    {
     "data": {
      "text/html": [
       "<pre style=\"white-space:pre;overflow-x:auto;line-height:normal;font-family:Menlo,'DejaVu Sans Mono',consolas,'Courier New',monospace\">['r', 'r', 'r', 'r', 'r']\n",
       "</pre>\n"
      ],
      "text/plain": [
       "['r', 'r', 'r', 'r', 'r']\n"
      ]
     },
     "metadata": {},
     "output_type": "display_data"
    },
    {
     "data": {
      "text/html": [
       "<pre style=\"white-space:pre;overflow-x:auto;line-height:normal;font-family:Menlo,'DejaVu Sans Mono',consolas,'Courier New',monospace\">---\n",
       "</pre>\n"
      ],
      "text/plain": [
       "---\n"
      ]
     },
     "metadata": {},
     "output_type": "display_data"
    },
    {
     "data": {
      "text/html": [
       "<pre style=\"white-space:pre;overflow-x:auto;line-height:normal;font-family:Menlo,'DejaVu Sans Mono',consolas,'Courier New',monospace\">['b', 'b', 'b', 'b', 'b']\n",
       "</pre>\n"
      ],
      "text/plain": [
       "['b', 'b', 'b', 'b', 'b']\n"
      ]
     },
     "metadata": {},
     "output_type": "display_data"
    },
    {
     "data": {
      "text/html": [
       "<pre style=\"white-space:pre;overflow-x:auto;line-height:normal;font-family:Menlo,'DejaVu Sans Mono',consolas,'Courier New',monospace\">---\n",
       "</pre>\n"
      ],
      "text/plain": [
       "---\n"
      ]
     },
     "metadata": {},
     "output_type": "display_data"
    },
    {
     "data": {
      "text/html": [
       "<pre style=\"white-space:pre;overflow-x:auto;line-height:normal;font-family:Menlo,'DejaVu Sans Mono',consolas,'Courier New',monospace\">['i', 'i', 'i', 'i', 'i']\n",
       "</pre>\n"
      ],
      "text/plain": [
       "['i', 'i', 'i', 'i', 'i']\n"
      ]
     },
     "metadata": {},
     "output_type": "display_data"
    },
    {
     "data": {
      "text/html": [
       "<pre style=\"white-space:pre;overflow-x:auto;line-height:normal;font-family:Menlo,'DejaVu Sans Mono',consolas,'Courier New',monospace\">---\n",
       "</pre>\n"
      ],
      "text/plain": [
       "---\n"
      ]
     },
     "metadata": {},
     "output_type": "display_data"
    },
    {
     "data": {
      "text/html": [
       "<pre style=\"white-space:pre;overflow-x:auto;line-height:normal;font-family:Menlo,'DejaVu Sans Mono',consolas,'Courier New',monospace\">['t , t , t , t , t , t , t , t , t , t , t , t , t , t , t , t , t , t , t , t , t , t , t , t , t , t , t , t , t\n",
       ", t , t , t , t , t , t , t , t , t , t , t , t , t , t , t , t , t , t , t , t , t ', 't', 't', 't , t , t , t , t\n",
       ", t , t , t , t , t , t , t , t , t , t , t , t , t , t , t , t , t , t , t , t , t , t , t , t , t , t , t , t , t\n",
       ", t , t , t , t , t , t , t , t , t , t , t , t , t , t , t , t ', 't , t , t , t , t , t , t , t , t , t , t , t ,\n",
       "t , t , t , t , t , t , t , t , t , t , t , t , t , t , t , t , t , t , t , t , t , t , t , t , t , t , t , t , t ,\n",
       "t , t , t , t , t , t , t , t , t ']\n",
       "</pre>\n"
      ],
      "text/plain": [
       "['t , t , t , t , t , t , t , t , t , t , t , t , t , t , t , t , t , t , t , t , t , t , t , t , t , t , t , t , t\n",
       ", t , t , t , t , t , t , t , t , t , t , t , t , t , t , t , t , t , t , t , t , t ', 't', 't', 't , t , t , t , t\n",
       ", t , t , t , t , t , t , t , t , t , t , t , t , t , t , t , t , t , t , t , t , t , t , t , t , t , t , t , t , t\n",
       ", t , t , t , t , t , t , t , t , t , t , t , t , t , t , t , t ', 't , t , t , t , t , t , t , t , t , t , t , t ,\n",
       "t , t , t , t , t , t , t , t , t , t , t , t , t , t , t , t , t , t , t , t , t , t , t , t , t , t , t , t , t ,\n",
       "t , t , t , t , t , t , t , t , t ']\n"
      ]
     },
     "metadata": {},
     "output_type": "display_data"
    },
    {
     "data": {
      "text/html": [
       "<pre style=\"white-space:pre;overflow-x:auto;line-height:normal;font-family:Menlo,'DejaVu Sans Mono',consolas,'Courier New',monospace\">---\n",
       "</pre>\n"
      ],
      "text/plain": [
       "---\n"
      ]
     },
     "metadata": {},
     "output_type": "display_data"
    }
   ],
   "source": [
    "from transformers import AutoModelForSeq2SeqLM, pipeline\n",
    "from transformers.pipelines.pt_utils import KeyDataset\n",
    "from rich.progress import track\n",
    "\n",
    "\n",
    "def create_inference_function(model):\n",
    "    pipe = pipeline(\n",
    "        \"text2text-generation\",\n",
    "        model=model,\n",
    "        tokenizer=\"google/flan-t5-base\",\n",
    "        device=0,\n",
    "    )\n",
    "\n",
    "    def run_inference(prompts, **kwargs):\n",
    "        # pipelines appear to only return iterators when used with a KeyDataset, and we have to create a Dataset to create a KeyDataset\n",
    "        prompts_ds = Dataset.from_dict({\"prompt\": prompts})\n",
    "        prompts_ds = KeyDataset(prompts_ds, \"prompt\")\n",
    "\n",
    "        all_predictions = pipe(\n",
    "            prompts_ds,\n",
    "            max_length=200,\n",
    "            num_beams=5,\n",
    "            repetition_penalty=3.0,\n",
    "            num_return_sequences=5,\n",
    "            batch_size=2,\n",
    "            do_sample=True,\n",
    "            **kwargs,\n",
    "        )\n",
    "        for predictions in all_predictions:\n",
    "            yield [p[\"generated_text\"] for p in predictions]\n",
    "\n",
    "    return run_inference\n",
    "\n",
    "\n",
    "test_fn = create_inference_function(\n",
    "    AutoModelForSeq2SeqLM.from_pretrained(f\"models/flan-t5-large-10ep/checkpoint-42000\")\n",
    ")\n",
    "\n",
    "for completions in track(test_fn(sample_data[\"prompt\"].tolist()[0])):\n",
    "    # print(\"Prompt:\")\n",
    "    # print(prompt)\n",
    "    print(completions)\n",
    "    print('---')\n",
    "\n",
    "# test_output\n"
   ]
  },
  {
   "cell_type": "code",
   "execution_count": 9,
   "metadata": {},
   "outputs": [
    {
     "data": {
      "text/plain": [
       "[[\"Jacqueline Corbitt: Vanessa's cousin Mikey wants everyone to know that his T-Rex is bigger than Vanessa  David Corbitt: Lucky for him she can't walk yet  Scott Corbitt: Shoulda been Bon Nadal my bad  Christina Corbitt: We have a white Christmas in Washington  Karen Corbitt: Oh my. Are the roads ok?\",\n",
       "  \"Jacqueline Corbitt: Vanessa's cousin Mikey wants everyone to know that his T-Rex is bigger than Vanessa  David Corbitt: Lucky for him she can't walk yet  Scott Corbitt: Shoulda been Bon Nadal my bad  Christina Corbitt: We have a white Christmas in Washington  Karen Corbitt: Oh my. Are the roads ok?\",\n",
       "  \"Jacqueline Corbitt: Vanessa's cousin Mikey wants everyone to know that his T-Rex is bigger than Vanessa  David Corbitt: Lucky for him she can't walk yet  Scott Corbitt: Shoulda been Bon Nadal my bad  Christina Corbitt: We have a white Christmas in Washington  Karen Corbitt: Oh my. Are the roads ok?\",\n",
       "  \"Jacqueline Corbitt: Vanessa's cousin Mikey wants everyone to know that his T-Rex is bigger than Vanessa  David Corbitt: Lucky for him she can't walk yet  Scott Corbitt: Shoulda been Bon Nadal my bad  Christina Corbitt: We have a white Christmas in Washington  Karen Corbitt: Oh my. Are the roads ok?\",\n",
       "  \"Jacqueline Corbitt: Vanessa's cousin Mikey wants everyone to know that his T-Rex is bigger than Vanessa  David Corbitt: Lucky for him she can't walk yet  Scott Corbitt: Shoulda been Bon Nadal my bad  Christina Corbitt: We have a white Christmas in Washington  Karen Corbitt: Oh my. Are the roads ok?\"]]"
      ]
     },
     "execution_count": 9,
     "metadata": {},
     "output_type": "execute_result"
    }
   ],
   "source": [
    "test_output"
   ]
  },
  {
   "cell_type": "code",
   "execution_count": 3,
   "metadata": {},
   "outputs": [],
   "source": [
    "models_to_compare = {\n",
    "    # \"t5-lg\": AutoModelForSeq2SeqLM.from_pretrained(f\"google/flan-t5-large\"),\n",
    "    \"t5-lg-29000\": AutoModelForSeq2SeqLM.from_pretrained(\n",
    "        f\"models/flan-t5-large-telegram/checkpoint-29000\"\n",
    "    ),\n",
    "    \"t5-lg-42000\": AutoModelForSeq2SeqLM.from_pretrained(\n",
    "        f\"models/flan-t5-large-10ep/checkpoint-42000\"\n",
    "    ),\n",
    "}\n",
    "\n",
    "\n",
    "models_to_compare = {\n",
    "    k: create_inference_function(v) for k, v in models_to_compare.items()\n",
    "}\n"
   ]
  },
  {
   "cell_type": "code",
   "execution_count": 4,
   "metadata": {},
   "outputs": [],
   "source": [
    "from dotenv import load_dotenv\n",
    "from diskcache import Cache\n",
    "import time\n",
    "\n",
    "# Load the OpenAI API key from the .env file\n",
    "load_dotenv()\n",
    "\n",
    "import openai\n",
    "\n",
    "cache = Cache(\"data/openai_cache\")\n",
    "\n",
    "cache.set()\n",
    "\n",
    "@cache.memoize(\"oai_infer_dv3_n5_mt200\")\n",
    "def openai_inference(prompt):\n",
    "    completions = openai.Completion.create(\n",
    "        engine=\"text-davinci-003\", prompt=prompt, n=5, max_tokens=200\n",
    "    )\n",
    "\n",
    "    return [completion[\"text\"] for completion in completions[\"choices\"]]\n",
    "\n",
    "\n",
    "def openai_batch_inference(prompts):\n",
    "    for prompt in prompts:\n",
    "        yield openai_inference(prompt)\n",
    "        time.sleep(1)\n",
    "\n",
    "\n",
    "openai_inference(\"a man a plan a canal\")\n",
    "\n",
    "models_to_compare[\"openai\"] = openai_batch_inference\n"
   ]
  },
  {
   "cell_type": "code",
   "execution_count": 5,
   "metadata": {},
   "outputs": [
    {
     "data": {
      "application/vnd.jupyter.widget-view+json": {
       "model_id": "53a5b499d91e47a1885f7a5a60ab7179",
       "version_major": 2,
       "version_minor": 0
      },
      "text/plain": [
       "Output()"
      ]
     },
     "metadata": {},
     "output_type": "display_data"
    },
    {
     "data": {
      "text/html": [
       "<pre style=\"white-space:pre;overflow-x:auto;line-height:normal;font-family:Menlo,'DejaVu Sans Mono',consolas,'Courier New',monospace\"></pre>\n"
      ],
      "text/plain": []
     },
     "metadata": {},
     "output_type": "display_data"
    },
    {
     "data": {
      "text/html": [
       "<pre style=\"white-space:pre;overflow-x:auto;line-height:normal;font-family:Menlo,'DejaVu Sans Mono',consolas,'Courier New',monospace\">\n",
       "</pre>\n"
      ],
      "text/plain": [
       "\n"
      ]
     },
     "metadata": {},
     "output_type": "display_data"
    }
   ],
   "source": [
    "from rich.progress import Progress, MofNCompleteColumn\n",
    "\n",
    "predictions = {}\n",
    "\n",
    "prompts = list(sample_data[\"prompt\"])\n",
    "\n",
    "with Progress(*Progress.get_default_columns(), MofNCompleteColumn()) as progress:\n",
    "    for model_name, inference_fn in models_to_compare.items():\n",
    "        # if model_name != 't5-lg-29000':\n",
    "        #     continue\n",
    "        predictions[model_name] = list(\n",
    "            progress.track(\n",
    "                inference_fn(prompts), description=model_name, total=len(prompts)\n",
    "            )\n",
    "        )\n",
    "\n",
    "sample_data = sample_data.assign(**predictions)\n"
   ]
  },
  {
   "cell_type": "code",
   "execution_count": 7,
   "metadata": {},
   "outputs": [
    {
     "data": {
      "text/html": [
       "\n",
       "    <style>\n",
       "        table {\n",
       "            /* Make all columns the same width */\n",
       "            table-layout: fixed;\n",
       "            background-color: #f5f5f5;\n",
       "            \n",
       "            /* break long urls */\n",
       "            word-wrap: break-word;\n",
       "            word-break: break-word;\n",
       "        }\n",
       "        th, td {\n",
       "            max-width: 300px;\n",
       "            text-align: left;\n",
       "            vertical-align: top;\n",
       "            font-family: sans-serif;\n",
       "        }\n",
       "    </style>\n",
       "    <table border=\"1\" class=\"dataframe\">\n",
       "  <thead>\n",
       "    <tr style=\"text-align: right;\">\n",
       "      <th>prompt</th>\n",
       "      <th>ground_truth</th>\n",
       "      <th>t5-lg-29000</th>\n",
       "      <th>t5-lg-42000</th>\n",
       "      <th>openai</th>\n",
       "    </tr>\n",
       "  </thead>\n",
       "  <tbody>\n",
       "    <tr>\n",
       "      <td>Respond to chat as Kyle Corbitt:<br><br>Recent messages:<br><br>Jacqueline Corbitt:<br>Vanessa's cousin Mikey wants everyone to know that his T-Rex is bigger than Vanessa 😁<br><br>David Corbitt:<br>Lucky for him she can't walk yet<br><br>David Corbitt:<br>Merry Christmas<br><br>Scott Corbitt:<br>Shoulda been Bon Nadal my bad<br><br>Scott Corbitt:<br>Hey everybody, you keep promising to post pictures. Let's make that happen (so I can repost some of them to Instagram)<br><br>Christina Corbitt:<br>Merry Christmas 🎄<br><br>Jacqueline Corbitt:<br>Baby's first stocking<br><br>Jacqueline Corbitt:<br>Vanessa loves her Uncle Kevin, much to the jealousy of Uncle Kevin's own child 😂<br><br>Christina Corbitt:<br>We have a white Christmas in Washington 😌<br><br>Karen Corbitt:<br>Oh my.  Are the roads ok?<br><br>Kyle Corbitt:<br></td>\n",
       "      <td>Wow nice!!</td>\n",
       "      <td>Yes, they're all ok<br>--------------------<br>Yeah they're ok<br>--------------------<br>Yeah, they're ok<br>--------------------<br>Yeah, a lot of cars are stuck on the side of the road<br>--------------------<br>Yes, they're ok</td>\n",
       "      <td>Yeah they're ok<br>--------------------<br>Yeah they're pretty ok here<br>--------------------<br>Yeah they're pretty ok here<br>--------------------<br>Yeah they're pretty ok here<br>--------------------<br>Yeah they're pretty ok here</td>\n",
       "      <td>Merry Christmas everyone! And Karen, I heard the roads should be okay, but drive safely!<br>--------------------<br>Hey everyone! Wow, what a great conversation! I'm sure Mikey's T-Rex is huge! And yeah, let's post some pics so the rest of the family can see what we're up to. It sounds like Vanessa already has quite the fan club! As for the snow out in Washington, Karen, I'm sure it looks beautiful, but please be careful if you're out on the roads! 🤗<br>--------------------<br>Ha! That's funny, Jacqueline. Merry Christmas, everyone! Let's see those pictures! Karen, yes, the roads have been cleared.<br>--------------------<br>Merry Christmas to all! It sounds like everyone is having a great holiday. And yes Karen, the roads in Washington should be OK - mostly just snowing here in New York.<br>--------------------<br>Hey everyone! Haha, I love the stories about Vanessa and Uncle Kevin. Definitely wanna see those photos! Karen, roads here in Phoenix are fine. Wish you all a very Merry Christmas!</td>\n",
       "    </tr>\n",
       "    <tr>\n",
       "      <td>Respond to chat as Kyle Corbitt:<br><br>Recent messages:<br><br>David Corbitt:<br>I am really excited to try this. They say 46 minutes of flight time but if it works for 30 I'll be happy<br><br>Kyle Corbitt:<br>nice<br><br>Kyle Corbitt:<br></td>\n",
       "      <td>been thinking about buying a drone forever</td>\n",
       "      <td>what's the price?<br>--------------------<br>how long will it take you to get to the airport?<br>--------------------<br>what's the price?<br>--------------------<br>what's the flight time?<br>--------------------<br>how long will you be there for?</td>\n",
       "      <td>I'm excited to try it<br>--------------------<br>what's it called?<br>--------------------<br>what's the app name?<br>--------------------<br>how long will it take you to get from chicago to los algodones?<br>--------------------<br>I'm glad you're willing to try it</td>\n",
       "      <td>Sounds great, David! I'm excited to hear how it works out for you!<br>--------------------<br>I'm excited to try this too! It sounds like a fun experience. Let's hope it works for at least the full 46 minutes!<br>--------------------<br>That sounds great, David. You should definitely give it a try and let us know how it goes!<br>--------------------<br>That sounds great, David! I'm looking forward to testing it out -- let's aim for at least 30 minutes of flight time and see how it goes.<br>--------------------<br>That sounds great! I'm sure you'll be able to get at least 30 minutes out of it. Good luck with your flight!</td>\n",
       "    </tr>\n",
       "  </tbody>\n",
       "</table>"
      ],
      "text/plain": [
       "<IPython.core.display.HTML object>"
      ]
     },
     "metadata": {},
     "output_type": "display_data"
    }
   ],
   "source": [
    "import pprint\n",
    "from IPython.display import display, HTML\n",
    "\n",
    "sample_formatted = sample_data.copy()[[\"prompt\", \"ground_truth\", *predictions.keys()]]\n",
    "\n",
    "\n",
    "for col in predictions.keys():\n",
    "    sample_formatted[col] = sample_formatted[col].apply(\n",
    "        lambda x: f\"\\n{'-'*20}\\n\".join(x)\n",
    "    )\n",
    "\n",
    "def df_to_html(df):\n",
    "    table_html = df.to_html(index=False, escape=False).replace(\"\\\\n\", \"<br>\")\n",
    "    \n",
    "    table_styling = \"\"\"\n",
    "    <style>\n",
    "        table {\n",
    "            /* Make all columns the same width */\n",
    "            table-layout: fixed;\n",
    "            background-color: #f5f5f5;\n",
    "            \n",
    "            /* break long urls */\n",
    "            word-wrap: break-word;\n",
    "            word-break: break-word;\n",
    "        }\n",
    "        th, td {\n",
    "            max-width: 300px;\n",
    "            text-align: left;\n",
    "            vertical-align: top;\n",
    "            font-family: sans-serif;\n",
    "        }\n",
    "    </style>\n",
    "    \"\"\"\n",
    "\n",
    "    return table_styling + table_html\n",
    "\n",
    "display(HTML(df_to_html(sample_formatted.head(2))))\n",
    "\n",
    "with open(\"data/table.html\", \"w\") as f:\n",
    "    f.write(df_to_html(sample_formatted))\n"
   ]
  }
 ],
 "metadata": {
  "kernelspec": {
   "display_name": "autoresponder",
   "language": "python",
   "name": "python3"
  },
  "language_info": {
   "codemirror_mode": {
    "name": "ipython",
    "version": 3
   },
   "file_extension": ".py",
   "mimetype": "text/x-python",
   "name": "python",
   "nbconvert_exporter": "python",
   "pygments_lexer": "ipython3",
   "version": "3.10.8"
  },
  "orig_nbformat": 4,
  "vscode": {
   "interpreter": {
    "hash": "767c9e6bcb6bf1e56b6e269cd77223d5a15d6d7a64e3ff78b92463e57e0451c9"
   }
  }
 },
 "nbformat": 4,
 "nbformat_minor": 2
}
