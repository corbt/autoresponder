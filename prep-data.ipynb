{
 "cells": [
  {
   "cell_type": "code",
   "execution_count": 1,
   "metadata": {},
   "outputs": [
    {
     "data": {
      "text/plain": [
       "Karla    52852\n",
       "David    15419\n",
       "Fam      12875\n",
       "Alex      3714\n",
       "Name: chat_name, dtype: int64"
      ]
     },
     "metadata": {},
     "output_type": "display_data"
    },
    {
     "data": {
      "text/plain": [
       "Kyle Corbitt          32520\n",
       "Karla Inostroza       32218\n",
       "David Corbitt          8589\n",
       "Christina Corbitt      3090\n",
       "Jacqueline Corbitt     2703\n",
       "Karen Corbitt          2531\n",
       "Alex Chung             2226\n",
       "Scott Corbitt           731\n",
       "Alex Swan               178\n",
       "Ashleigh Schafer         30\n",
       "Yoda Corbitt             23\n",
       "Morris Corbitt           10\n",
       "Darwin Rios               8\n",
       "Cowboy Corbitt            3\n",
       "Name: from, dtype: int64"
      ]
     },
     "metadata": {},
     "output_type": "display_data"
    },
    {
     "data": {
      "text/html": [
       "<div>\n",
       "<style scoped>\n",
       "    .dataframe tbody tr th:only-of-type {\n",
       "        vertical-align: middle;\n",
       "    }\n",
       "\n",
       "    .dataframe tbody tr th {\n",
       "        vertical-align: top;\n",
       "    }\n",
       "\n",
       "    .dataframe thead th {\n",
       "        text-align: right;\n",
       "    }\n",
       "</style>\n",
       "<table border=\"1\" class=\"dataframe\">\n",
       "  <thead>\n",
       "    <tr style=\"text-align: right;\">\n",
       "      <th></th>\n",
       "      <th>date</th>\n",
       "      <th>from</th>\n",
       "      <th>text</th>\n",
       "      <th>chat_name</th>\n",
       "    </tr>\n",
       "  </thead>\n",
       "  <tbody>\n",
       "    <tr>\n",
       "      <th>0</th>\n",
       "      <td>2018-07-15 17:03:54</td>\n",
       "      <td>Kyle Corbitt</td>\n",
       "      <td>Hi</td>\n",
       "      <td>Karla</td>\n",
       "    </tr>\n",
       "    <tr>\n",
       "      <th>1</th>\n",
       "      <td>2018-07-15 17:07:07</td>\n",
       "      <td>Karla Inostroza</td>\n",
       "      <td>Hi</td>\n",
       "      <td>Karla</td>\n",
       "    </tr>\n",
       "    <tr>\n",
       "      <th>2</th>\n",
       "      <td>2018-07-15 17:07:30</td>\n",
       "      <td>Karla Inostroza</td>\n",
       "      <td>Hdiejduejej</td>\n",
       "      <td>Karla</td>\n",
       "    </tr>\n",
       "  </tbody>\n",
       "</table>\n",
       "</div>"
      ],
      "text/plain": [
       "                 date             from         text chat_name\n",
       "0 2018-07-15 17:03:54     Kyle Corbitt           Hi     Karla\n",
       "1 2018-07-15 17:07:07  Karla Inostroza           Hi     Karla\n",
       "2 2018-07-15 17:07:30  Karla Inostroza  Hdiejduejej     Karla"
      ]
     },
     "execution_count": 1,
     "metadata": {},
     "output_type": "execute_result"
    }
   ],
   "source": [
    "import pandas as pd\n",
    "import glob, json\n",
    "\n",
    "export_files = glob.glob(\"data/telegram/**/result.json\")\n",
    "\n",
    "all_chats = []\n",
    "\n",
    "for file in export_files:\n",
    "    data = json.load(open(file))\n",
    "    name = data[\"name\"]\n",
    "    df = pd.DataFrame(data[\"messages\"])\n",
    "    df[\"chat_name\"] = name\n",
    "\n",
    "    all_chats.append(df)\n",
    "\n",
    "messages = pd.concat(all_chats).reset_index(drop=True)\n",
    "messages[\"date\"] = pd.to_datetime(messages[\"date\"])\n",
    "messages = messages[messages.type == \"message\"]\n",
    "messages = messages[[\"date\", \"from\", \"text\", \"chat_name\"]]\n",
    "messages = messages[messages.text.str.len() > 0]\n",
    "display(messages.chat_name.value_counts())\n",
    "display(messages[\"from\"].value_counts())\n",
    "messages.head(3)\n"
   ]
  },
  {
   "cell_type": "code",
   "execution_count": 2,
   "metadata": {},
   "outputs": [],
   "source": [
    "# Find all messages that have the `text` field as an array\n",
    "# and convert them into a single string.\n",
    "\n",
    "for i, row in messages[messages.text.apply(lambda x: isinstance(x, list))].iterrows():\n",
    "    text_fragments = [(x[\"text\"] if isinstance(x, dict) else x) for x in row[\"text\"]]\n",
    "    messages.loc[i, \"text\"] = \"\".join(text_fragments)\n"
   ]
  },
  {
   "cell_type": "code",
   "execution_count": 17,
   "metadata": {},
   "outputs": [
    {
     "data": {
      "text/plain": [
       "count    84860.000000\n",
       "mean        45.478659\n",
       "std         68.429041\n",
       "min          1.000000\n",
       "25%         13.000000\n",
       "50%         29.000000\n",
       "75%         55.000000\n",
       "max       3776.000000\n",
       "Name: text, dtype: float64"
      ]
     },
     "metadata": {},
     "output_type": "display_data"
    },
    {
     "data": {
      "text/plain": [
       "count    32520.000000\n",
       "mean        41.405996\n",
       "std         59.663233\n",
       "min          1.000000\n",
       "25%         11.000000\n",
       "50%         27.000000\n",
       "75%         53.000000\n",
       "max       3776.000000\n",
       "Name: text, dtype: float64"
      ]
     },
     "execution_count": 17,
     "metadata": {},
     "output_type": "execute_result"
    }
   ],
   "source": [
    "display(messages.text.str.len().describe())\n",
    "messages[messages['from'] == 'Kyle Corbitt'].text.str.len().describe()\n"
   ]
  },
  {
   "cell_type": "code",
   "execution_count": 3,
   "metadata": {},
   "outputs": [
    {
     "data": {
      "text/plain": [
       "<AxesSubplot: >"
      ]
     },
     "metadata": {},
     "output_type": "display_data"
    },
    {
     "data": {
      "text/plain": [
       "False    84797\n",
       "True        63\n",
       "Name: truncated, dtype: int64"
      ]
     },
     "metadata": {},
     "output_type": "display_data"
    },
    {
     "data": {
      "image/png": "[encoded data removed]",
      "text/plain": [
       "<Figure size 640x480 with 1 Axes>"
      ]
     },
     "metadata": {},
     "output_type": "display_data"
    }
   ],
   "source": [
    "messages[\"text\"] = messages.text.astype(str)\n",
    "messages[\"formatted\"] = (\n",
    "    messages[\"from\"].str.cat(messages[\"text\"], sep=\":\\n\").astype(str)\n",
    ")\n",
    "\n",
    "truncate_to = 800\n",
    "\n",
    "messages[\"truncated\"] = False\n",
    "messages.loc[messages[\"formatted\"].str.len() > truncate_to, \"truncated\"] = True\n",
    "messages.loc[messages[\"formatted\"].str.len() > truncate_to, \"formatted\"] = (\n",
    "    messages[\"formatted\"].str[:truncate_to] + \"...\"\n",
    ")\n",
    "\n",
    "display(messages[\"formatted\"].str.len().hist())\n",
    "display(messages[\"truncated\"].value_counts())\n"
   ]
  },
  {
   "cell_type": "code",
   "execution_count": 4,
   "metadata": {},
   "outputs": [
    {
     "name": "stdout",
     "output_type": "stream",
     "text": [
      "Max history entries for Alex: 26\n",
      "Max history entries for David: 26\n",
      "Max history entries for Fam: 28\n",
      "Max history entries for Karla: 34\n"
     ]
    },
    {
     "data": {
      "text/plain": [
       "<AxesSubplot: >"
      ]
     },
     "metadata": {},
     "output_type": "display_data"
    },
    {
     "name": "stdout",
     "output_type": "stream",
     "text": [
      "[{'chat_history': 'Kyle Corbitt:\\n'\n",
      "                  'hey everybody woke up pretty sick at home including karla, '\n",
      "                  'so I probably will be mostly out today just keeping the '\n",
      "                  'house together\\n'\n",
      "                  '\\n'\n",
      "                  'Kyle Corbitt:\\n'\n",
      "                  '(I actually feel fine, for now at least, but have a lot to '\n",
      "                  'cover for)\\n'\n",
      "                  '\\n'\n",
      "                  'Kyle Corbitt:\\n'\n",
      "                  'can still get on at 9:15 for sync though in case we have '\n",
      "                  'things to align\\n'\n",
      "                  '\\n'\n",
      "                  'Alex Chung:\\n'\n",
      "                  'I’ll check the board now\\n'\n",
      "                  '\\n'\n",
      "                  'Alex Chung:\\n'\n",
      "                  'I cleared a few tickets already\\n'\n",
      "                  '\\n'\n",
      "                  'Alex Chung:\\n'\n",
      "                  'I’ll aim to a draft investor letter over the weekend\\n'\n",
      "                  '\\n'\n",
      "                  'Alex Chung:\\n'\n",
      "                  'And list of podcasts we try to get on by Monday too\\n'\n",
      "                  '\\n'\n",
      "                  'Alex Chung:\\n'\n",
      "                  'Let’s skip sync\\n'\n",
      "                  '\\n'\n",
      "                  'Alex Chung:\\n'\n",
      "                  'You’re 100% okay with me staying over at mom’s place or '\n",
      "                  'something for a Seattle trip? Blankets and sofa is fine, '\n",
      "                  'nothing fancy\\n'\n",
      "                  '\\n'\n",
      "                  'Alex Chung:\\n'\n",
      "                  'I can get a rental car again to simplify logistics\\n'\n",
      "                  '\\n'\n",
      "                  'Alex Chung:\\n'\n",
      "                  'I’m looking at tickets for Monday through Wednesday',\n",
      "  'chat_history_complete': True,\n",
      "  'chat_name': 'Alex',\n",
      "  'date': Timestamp('2022-09-30 08:22:51'),\n",
      "  'formatted': \"Kyle Corbitt:\\nyeah just asked her but I'm sure she's on board\",\n",
      "  'from': 'Kyle Corbitt',\n",
      "  'text': \"yeah just asked her but I'm sure she's on board\",\n",
      "  'truncated': False}]\n"
     ]
    },
    {
     "data": {
      "image/png": "[encoded data removed]",
      "text/plain": [
       "<Figure size 640x480 with 1 Axes>"
      ]
     },
     "metadata": {},
     "output_type": "display_data"
    }
   ],
   "source": [
    "import pprint\n",
    "\n",
    "messages[\"chat_history_complete\"] = False\n",
    "messages[\"chat_history\"] = \"\"\n",
    "\n",
    "# Populate the `chat_history` column with the previous messages in the conversation\n",
    "\n",
    "for name, group in messages.groupby(\"chat_name\"):\n",
    "    group = group.sort_values(\"date\")\n",
    "\n",
    "    i = 0\n",
    "    while not group[\"chat_history_complete\"].all() and i < 100:\n",
    "        i += 1\n",
    "        history_i = group.shift(i)\n",
    "\n",
    "        augmented_history = history_i[\"formatted\"] + \"\\n\\n\" + group[\"chat_history\"]\n",
    "\n",
    "        # Messages more than 6 hours apart are probably not part of the same conversation\n",
    "        too_old = (group[\"date\"] - history_i[\"date\"]) > pd.Timedelta(\"6 hours\")\n",
    "\n",
    "        # Don't add a message to the history if it would cause the history to be over 1000 characters\n",
    "        too_long = augmented_history.str.len() > 1000\n",
    "\n",
    "        # Mark the history as complete if adding another message would break one of the former conditions\n",
    "        group[\"chat_history_complete\"] = (\n",
    "            group.chat_history_complete | too_old | too_long | history_i[\"date\"].isna()\n",
    "        )\n",
    "\n",
    "        group.loc[~group[\"chat_history_complete\"], \"chat_history\"] = augmented_history\n",
    "\n",
    "    # Save the group back to the messages dataframe\n",
    "    messages.loc[group.index] = group\n",
    "    print(f\"Max history entries for {name}: {i}\")\n",
    "\n",
    "messages[\"chat_history\"] = messages[\"chat_history\"].str[:-2]\n",
    "\n",
    "display(messages[\"chat_history\"].str.len().hist())\n",
    "pprint.pprint(messages[messages.chat_name == \"Alex\"].sample(1).to_dict(\"records\"))\n",
    "\n",
    "del messages[\"chat_history_complete\"]\n"
   ]
  },
  {
   "cell_type": "code",
   "execution_count": 5,
   "metadata": {},
   "outputs": [
    {
     "data": {
      "text/plain": [
       "(80507, 7)"
      ]
     },
     "metadata": {},
     "output_type": "display_data"
    },
    {
     "data": {
      "text/html": [
       "<div>\n",
       "<style scoped>\n",
       "    .dataframe tbody tr th:only-of-type {\n",
       "        vertical-align: middle;\n",
       "    }\n",
       "\n",
       "    .dataframe tbody tr th {\n",
       "        vertical-align: top;\n",
       "    }\n",
       "\n",
       "    .dataframe thead th {\n",
       "        text-align: right;\n",
       "    }\n",
       "</style>\n",
       "<table border=\"1\" class=\"dataframe\">\n",
       "  <thead>\n",
       "    <tr style=\"text-align: right;\">\n",
       "      <th></th>\n",
       "      <th>date</th>\n",
       "      <th>from</th>\n",
       "      <th>text</th>\n",
       "      <th>chat_name</th>\n",
       "      <th>formatted</th>\n",
       "      <th>truncated</th>\n",
       "      <th>chat_history</th>\n",
       "    </tr>\n",
       "  </thead>\n",
       "  <tbody>\n",
       "    <tr>\n",
       "      <th>8808</th>\n",
       "      <td>2019-01-30 21:20:23</td>\n",
       "      <td>Kyle Corbitt</td>\n",
       "      <td>😢</td>\n",
       "      <td>Karla</td>\n",
       "      <td>Kyle Corbitt:\\n😢</td>\n",
       "      <td>False</td>\n",
       "      <td>Karla Inostroza:\\nRough night again\\n\\nKarla I...</td>\n",
       "    </tr>\n",
       "    <tr>\n",
       "      <th>87424</th>\n",
       "      <td>2021-02-18 21:44:39</td>\n",
       "      <td>Karen Corbitt</td>\n",
       "      <td>She will be 92.</td>\n",
       "      <td>Fam</td>\n",
       "      <td>Karen Corbitt:\\nShe will be 92.</td>\n",
       "      <td>False</td>\n",
       "      <td>David Corbitt:\\nWe got unicorn cake\\n\\nChristi...</td>\n",
       "    </tr>\n",
       "    <tr>\n",
       "      <th>83202</th>\n",
       "      <td>2019-11-09 14:33:47</td>\n",
       "      <td>Jacqueline Corbitt</td>\n",
       "      <td>If you guys are up for that it's probably the ...</td>\n",
       "      <td>Fam</td>\n",
       "      <td>Jacqueline Corbitt:\\nIf you guys are up for th...</td>\n",
       "      <td>False</td>\n",
       "      <td>Christina Corbitt:\\nScott where are you regist...</td>\n",
       "    </tr>\n",
       "  </tbody>\n",
       "</table>\n",
       "</div>"
      ],
      "text/plain": [
       "                     date                from  \\\n",
       "8808  2019-01-30 21:20:23        Kyle Corbitt   \n",
       "87424 2021-02-18 21:44:39       Karen Corbitt   \n",
       "83202 2019-11-09 14:33:47  Jacqueline Corbitt   \n",
       "\n",
       "                                                    text chat_name  \\\n",
       "8808                                                   😢     Karla   \n",
       "87424                                    She will be 92.       Fam   \n",
       "83202  If you guys are up for that it's probably the ...       Fam   \n",
       "\n",
       "                                               formatted  truncated  \\\n",
       "8808                                    Kyle Corbitt:\\n😢      False   \n",
       "87424                    Karen Corbitt:\\nShe will be 92.      False   \n",
       "83202  Jacqueline Corbitt:\\nIf you guys are up for th...      False   \n",
       "\n",
       "                                            chat_history  \n",
       "8808   Karla Inostroza:\\nRough night again\\n\\nKarla I...  \n",
       "87424  David Corbitt:\\nWe got unicorn cake\\n\\nChristi...  \n",
       "83202  Christina Corbitt:\\nScott where are you regist...  "
      ]
     },
     "execution_count": 5,
     "metadata": {},
     "output_type": "execute_result"
    }
   ],
   "source": [
    "# Remove messages that don't have any history or that are truncated\n",
    "\n",
    "ds_df = messages[(messages.chat_history.str.len() > 0) & ~messages.truncated].copy()\n",
    "\n",
    "display(ds_df.shape)\n",
    "ds_df.sample(3)\n"
   ]
  },
  {
   "cell_type": "code",
   "execution_count": 6,
   "metadata": {},
   "outputs": [
    {
     "name": "stdout",
     "output_type": "stream",
     "text": [
      "Respond to chat as Alex Chung:\n",
      "\n",
      "Recent messages:\n",
      "\n",
      "Alex Chung:\n",
      "There’s a heat wave in the Bay Area today. Ill be on mobile for my morning dog walk as I’ll be joining our sync first 30 min\n",
      "\n",
      "Kyle Corbitt:\n",
      "to check my understanding, you'll still be on at 7:30 but you'll be on a walk?\n",
      "\n",
      "Alex Chung:\n",
      "Yeah\n",
      "\n",
      "Alex Chung:\n",
      "\n"
     ]
    }
   ],
   "source": [
    "def format_prompt(row):\n",
    "    return f\"\"\"Respond to chat as {row[\"from\"]}:\n",
    "\n",
    "Recent messages:\n",
    "\n",
    "{row[\"chat_history\"]}\n",
    "\n",
    "{row[\"from\"]}:\n",
    "\"\"\"\n",
    "\n",
    "\n",
    "ds_df[\"prompt\"] = ds_df.apply(format_prompt, axis=1)\n",
    "\n",
    "ds_df.prompt.str.len().describe()\n",
    "\n",
    "print(ds_df[ds_df.chat_name == \"Alex\"].iloc[1950].prompt)\n"
   ]
  },
  {
   "cell_type": "code",
   "execution_count": 7,
   "metadata": {},
   "outputs": [
    {
     "data": {
      "text/plain": [
       "(31338, 8)"
      ]
     },
     "execution_count": 7,
     "metadata": {},
     "output_type": "execute_result"
    }
   ],
   "source": [
    "# Let's just train on messages sent by Kyle for now\n",
    "ds_df = ds_df[ds_df[\"from\"] == \"Kyle Corbitt\"]\n",
    "\n",
    "ds_df.shape\n"
   ]
  },
  {
   "cell_type": "code",
   "execution_count": 8,
   "metadata": {},
   "outputs": [
    {
     "name": "stderr",
     "output_type": "stream",
     "text": [
      "Token indices sequence length is longer than the specified maximum sequence length for this model (521 > 512). Running this sequence through the model will result in indexing errors\n"
     ]
    },
    {
     "data": {
      "text/plain": [
       "count    31338.000000\n",
       "mean       234.148829\n",
       "std        104.826550\n",
       "min         25.000000\n",
       "25%        146.000000\n",
       "50%        267.000000\n",
       "75%        314.000000\n",
       "max        731.000000\n",
       "Name: prompt, dtype: float64"
      ]
     },
     "metadata": {},
     "output_type": "display_data"
    },
    {
     "data": {
      "text/plain": [
       "count    31338.000000\n",
       "mean        12.489182\n",
       "std         15.981490\n",
       "min          2.000000\n",
       "25%          5.000000\n",
       "50%          8.000000\n",
       "75%         15.000000\n",
       "max        522.000000\n",
       "Name: text, dtype: float64"
      ]
     },
     "metadata": {},
     "output_type": "display_data"
    }
   ],
   "source": [
    "from transformers import AutoTokenizer, AutoModelForSeq2SeqLM\n",
    "\n",
    "model_id = \"google/flan-t5-base\"\n",
    "\n",
    "# Load tokenizer of FLAN-t5-base\n",
    "tokenizer = AutoTokenizer.from_pretrained(model_id)\n",
    "\n",
    "prompt_lengths = ds_df.prompt.apply(tokenizer.encode).map(len)\n",
    "display(prompt_lengths.describe())\n",
    "max_prompt_length = prompt_lengths.max()\n",
    "\n",
    "label_lengths = ds_df.text.apply(tokenizer.encode).map(len)\n",
    "display(label_lengths.describe())\n",
    "max_label_length = label_lengths.max()\n"
   ]
  },
  {
   "cell_type": "code",
   "execution_count": 9,
   "metadata": {},
   "outputs": [
    {
     "name": "stderr",
     "output_type": "stream",
     "text": [
      "/tmp/ipykernel_3551474/1048623221.py:6: UserWarning: Boolean Series key will be reindexed to match DataFrame index.\n",
      "  ds_df = ds_df[prompt_lengths <= 512]\n"
     ]
    }
   ],
   "source": [
    "# Let's just drop the longest prompts and completions for now. There aren't that many anyway.\n",
    "\n",
    "ds_df = ds_df[label_lengths <= 100]\n",
    "max_target_length = 100\n",
    "\n",
    "ds_df = ds_df[prompt_lengths <= 512]\n",
    "max_prompt_length = 512\n"
   ]
  },
  {
   "cell_type": "code",
   "execution_count": 10,
   "metadata": {},
   "outputs": [
    {
     "data": {
      "text/plain": [
       "DatasetDict({\n",
       "    train: Dataset({\n",
       "        features: ['prompt', 'text'],\n",
       "        num_rows: 30518\n",
       "    })\n",
       "    test: Dataset({\n",
       "        features: ['prompt', 'text'],\n",
       "        num_rows: 623\n",
       "    })\n",
       "})"
      ]
     },
     "execution_count": 10,
     "metadata": {},
     "output_type": "execute_result"
    }
   ],
   "source": [
    "import datasets\n",
    "\n",
    "train_frac = 0.98\n",
    "\n",
    "# Take the first train_frac of the df for training and the rest for test.\n",
    "# Split by date so the model can't cheat on the test set (can still cheat\n",
    "# on the training set I guess).\n",
    "\n",
    "ds_df = ds_df.sort_values('date').reset_index(drop=True)[[\"prompt\", \"text\"]]\n",
    "\n",
    "train_ds = datasets.Dataset.from_pandas(ds_df.iloc[: int(len(ds_df) * train_frac)], preserve_index=False)\n",
    "test_ds = datasets.Dataset.from_pandas(ds_df.iloc[int(len(ds_df) * train_frac) :], preserve_index=False)\n",
    "\n",
    "ds = datasets.DatasetDict({\"train\": train_ds, \"test\": test_ds})\n",
    "\n",
    "ds\n"
   ]
  },
  {
   "cell_type": "code",
   "execution_count": 11,
   "metadata": {},
   "outputs": [
    {
     "data": {
      "application/vnd.jupyter.widget-view+json": {
       "model_id": "96e411748b84406c97c7bbd4e8ea78a9",
       "version_major": 2,
       "version_minor": 0
      },
      "text/plain": [
       "  0%|          | 0/31 [00:00<?, ?ba/s]"
      ]
     },
     "metadata": {},
     "output_type": "display_data"
    },
    {
     "data": {
      "application/vnd.jupyter.widget-view+json": {
       "model_id": "f08173dd09714a11a8bb2ca53d09088e",
       "version_major": 2,
       "version_minor": 0
      },
      "text/plain": [
       "  0%|          | 0/1 [00:00<?, ?ba/s]"
      ]
     },
     "metadata": {},
     "output_type": "display_data"
    },
    {
     "data": {
      "text/plain": [
       "DatasetDict({\n",
       "    train: Dataset({\n",
       "        features: ['prompt', 'text', 'input_ids', 'attention_mask', 'labels'],\n",
       "        num_rows: 30518\n",
       "    })\n",
       "    test: Dataset({\n",
       "        features: ['prompt', 'text', 'input_ids', 'attention_mask', 'labels'],\n",
       "        num_rows: 623\n",
       "    })\n",
       "})"
      ]
     },
     "execution_count": 11,
     "metadata": {},
     "output_type": "execute_result"
    }
   ],
   "source": [
    "def preprocess(sample):\n",
    "    inputs = tokenizer(\n",
    "        sample[\"prompt\"],\n",
    "        max_length=max_prompt_length,\n",
    "        padding=\"max_length\",\n",
    "        truncation=True,\n",
    "    )\n",
    "\n",
    "    labels = tokenizer(\n",
    "        sample[\"text\"],\n",
    "        max_length=max_target_length,\n",
    "        padding=\"max_length\",\n",
    "        truncation=True,\n",
    "    )\n",
    "\n",
    "    # Replace padding token with -100 so that loss in padding is ignored. TODO: might be\n",
    "    # possible to do this automatically in the tokenizer config?\n",
    "    input_tokens = [\n",
    "        [(-100 if token == tokenizer.pad_token_id else token) for token in label]\n",
    "        for label in labels[\"input_ids\"]\n",
    "    ]\n",
    "\n",
    "    inputs[\"labels\"] = input_tokens\n",
    "\n",
    "    return inputs\n",
    "\n",
    "\n",
    "tokenized_ds = ds.map(preprocess, batched=True, batch_size=1000)\n",
    "tokenized_ds\n"
   ]
  },
  {
   "cell_type": "code",
   "execution_count": 12,
   "metadata": {},
   "outputs": [
    {
     "data": {
      "application/vnd.jupyter.widget-view+json": {
       "model_id": "5458aa70760047af84840cc5ee7ac5c8",
       "version_major": 2,
       "version_minor": 0
      },
      "text/plain": [
       "Saving the dataset (0/1 shards):   0%|          | 0/30518 [00:00<?, ? examples/s]"
      ]
     },
     "metadata": {},
     "output_type": "display_data"
    },
    {
     "data": {
      "application/vnd.jupyter.widget-view+json": {
       "model_id": "b8f678e4d42d4f66bbb47568f37e7175",
       "version_major": 2,
       "version_minor": 0
      },
      "text/plain": [
       "Saving the dataset (0/1 shards):   0%|          | 0/623 [00:00<?, ? examples/s]"
      ]
     },
     "metadata": {},
     "output_type": "display_data"
    }
   ],
   "source": [
    "tokenized_ds.save_to_disk(\"data/chat_history\")"
   ]
  }
 ],
 "metadata": {
  "kernelspec": {
   "display_name": "autoresponder",
   "language": "python",
   "name": "python3"
  },
  "language_info": {
   "codemirror_mode": {
    "name": "ipython",
    "version": 3
   },
   "file_extension": ".py",
   "mimetype": "text/x-python",
   "name": "python",
   "nbconvert_exporter": "python",
   "pygments_lexer": "ipython3",
   "version": "3.10.8"
  },
  "orig_nbformat": 4,
  "vscode": {
   "interpreter": {
    "hash": "767c9e6bcb6bf1e56b6e269cd77223d5a15d6d7a64e3ff78b92463e57e0451c9"
   }
  }
 },
 "nbformat": 4,
 "nbformat_minor": 2
}
